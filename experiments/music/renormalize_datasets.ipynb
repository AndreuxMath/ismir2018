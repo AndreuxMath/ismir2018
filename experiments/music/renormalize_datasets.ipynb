{
 "cells": [
  {
   "cell_type": "code",
   "execution_count": 1,
   "metadata": {
    "collapsed": true
   },
   "outputs": [],
   "source": [
    "import sys\n",
    "sys.path.append('../../')\n",
    "from utils import get_timestamp"
   ]
  },
  {
   "cell_type": "code",
   "execution_count": 2,
   "metadata": {
    "collapsed": true
   },
   "outputs": [],
   "source": [
    "import numpy as np\n",
    "import torch\n",
    "import json\n",
    "import matplotlib.pyplot as plt\n",
    "%matplotlib inline"
   ]
  },
  {
   "cell_type": "code",
   "execution_count": 3,
   "metadata": {
    "collapsed": true
   },
   "outputs": [],
   "source": [
    "previous_timestamp = '2018-02-08T19-37-56'\n",
    "timestamp = get_timestamp()"
   ]
  },
  {
   "cell_type": "code",
   "execution_count": 4,
   "metadata": {},
   "outputs": [
    {
     "name": "stdout",
     "output_type": "stream",
     "text": [
      "S shape = torch.Size([541, 9])\n",
      "x shape = torch.Size([1, 8193])\n",
      "S shape = torch.Size([541, 9])\n",
      "x shape = torch.Size([1, 8193])\n"
     ]
    }
   ],
   "source": [
    "for type_data in ['train', 'test']:\n",
    "    current_path = '../../../data/music_preprocess/' + type_data + '/'\n",
    "    prefix = current_path + previous_timestamp\n",
    "\n",
    "    S = torch.load(prefix + '_scatterings.pth')\n",
    "    x = torch.load(prefix + '_signals.pth')\n",
    "    t = torch.load(prefix + '_times.pth')\n",
    "    print('S shape =', S.size()[1:])\n",
    "    print('x shape =', x.size()[1:])\n",
    "\n",
    "    with open(prefix + '_params.json', 'r') as f:\n",
    "        params = json.load(f)\n",
    "\n",
    "    if type_data == 'train':\n",
    "        # Compute the average amplitude of S\n",
    "        amplitude_S = torch.mean(torch.abs(S), dim=0).mean(dim=-1)\n",
    "        \n",
    "    # Change the amplitude\n",
    "    S_new = S / amplitude_S.view(-1, 1)\n",
    "    x_new = x\n",
    "    t_new = t\n",
    "\n",
    "    # update the params\n",
    "    params['timestamp_preshuffle'] = params['timestamp']\n",
    "    params['timestamp'] = timestamp\n",
    "\n",
    "    # update the prefix\n",
    "    prefix_new = current_path + timestamp\n",
    "\n",
    "    # save the results\n",
    "    torch.save(S_new, prefix_new + '_scatterings.pth')\n",
    "    torch.save(x_new, prefix_new + '_signals.pth')\n",
    "    torch.save(t_new, prefix_new + '_times.pth')\n",
    "\n",
    "    with open(prefix_new + '_params.json', 'w') as f:\n",
    "        json.dump(params, f)"
   ]
  },
  {
   "cell_type": "code",
   "execution_count": 5,
   "metadata": {
    "scrolled": true
   },
   "outputs": [
    {
     "name": "stdout",
     "output_type": "stream",
     "text": [
      "New timestamp = 2018-02-08T21-41-18\n"
     ]
    }
   ],
   "source": [
    "print('New timestamp =', timestamp)"
   ]
  },
  {
   "cell_type": "code",
   "execution_count": null,
   "metadata": {
    "collapsed": true
   },
   "outputs": [],
   "source": []
  }
 ],
 "metadata": {
  "kernelspec": {
   "display_name": "Python 3",
   "language": "python",
   "name": "python3"
  },
  "language_info": {
   "codemirror_mode": {
    "name": "ipython",
    "version": 3
   },
   "file_extension": ".py",
   "mimetype": "text/x-python",
   "name": "python",
   "nbconvert_exporter": "python",
   "pygments_lexer": "ipython3",
   "version": "3.5.4"
  }
 },
 "nbformat": 4,
 "nbformat_minor": 2
}
